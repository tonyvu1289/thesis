{
 "cells": [
  {
   "cell_type": "code",
   "execution_count": 24,
   "metadata": {},
   "outputs": [],
   "source": [
    "import numpy\n",
    "import scipy.io.wavfile\n",
    "from scipy.fftpack import dct\n",
    "import matplotlib.pyplot as plt\n",
    "\n",
    "sample_rate, signal = scipy.io.wavfile.read('OSR_us_000_0010_8k.wav')  # File assumed to be in the same directory\n",
    "signal = signal[0:int(3.5 * sample_rate)]  # Keep the first 3.5 seconds"
   ]
  },
  {
   "cell_type": "markdown",
   "metadata": {},
   "source": [
    "# MFCC step by step"
   ]
  },
  {
   "cell_type": "markdown",
   "metadata": {},
   "source": [
    "![](https://images.viblo.asia/full/d62a5349-d8e6-4239-85b5-cabeb93ecebe.png)"
   ]
  },
  {
   "cell_type": "markdown",
   "metadata": {},
   "source": [
    "# Audio wave --> Preemphasis"
   ]
  },
  {
   "cell_type": "code",
   "execution_count": 28,
   "metadata": {},
   "outputs": [],
   "source": [
    "emphasized_signal = np.append(signal[0], signal[1:] - 0.97 * signal[:-1])\n"
   ]
  },
  {
   "cell_type": "code",
   "execution_count": 29,
   "metadata": {},
   "outputs": [
    {
     "data": {
      "text/plain": [
       "array([-919.  , -422.57,  225.58, ...,  -12.05,   -7.56,  -11.92])"
      ]
     },
     "execution_count": 29,
     "metadata": {},
     "output_type": "execute_result"
    }
   ],
   "source": [
    "emphasized_signal"
   ]
  },
  {
   "cell_type": "markdown",
   "metadata": {},
   "source": [
    "# Framing\n"
   ]
  },
  {
   "cell_type": "markdown",
   "metadata": {},
   "source": [
    "convert time(mili-second) to sample-count(sample)"
   ]
  },
  {
   "cell_type": "code",
   "execution_count": 32,
   "metadata": {},
   "outputs": [],
   "source": [
    "frame_size = 0.025\n",
    "frame_stride = 0.01\n",
    "frame_length, frame_step = int(round(frame_size * sample_rate)), int(round(frame_stride * sample_rate))  # Convert from seconds to samples"
   ]
  },
  {
   "cell_type": "code",
   "execution_count": 33,
   "metadata": {},
   "outputs": [
    {
     "ename": "NameError",
     "evalue": "name 'num_frames' is not defined",
     "output_type": "error",
     "traceback": [
      "\u001b[0;31m---------------------------------------------------------------------------\u001b[0m",
      "\u001b[0;31mNameError\u001b[0m                                 Traceback (most recent call last)",
      "\u001b[1;32m/media/duy/vl1/hk1_nam4/thesis/mycc.ipynb Cell 10\u001b[0m in \u001b[0;36m<cell line: 3>\u001b[0;34m()\u001b[0m\n\u001b[1;32m      <a href='vscode-notebook-cell:/media/duy/vl1/hk1_nam4/thesis/mycc.ipynb#X20sZmlsZQ%3D%3D?line=0'>1</a>\u001b[0m signal_length \u001b[39m=\u001b[39m \u001b[39mlen\u001b[39m(emphasized_signal)\n\u001b[1;32m      <a href='vscode-notebook-cell:/media/duy/vl1/hk1_nam4/thesis/mycc.ipynb#X20sZmlsZQ%3D%3D?line=1'>2</a>\u001b[0m num_frame \u001b[39m=\u001b[39m (signal_length\u001b[39m-\u001b[39mframe_length)\u001b[39m/\u001b[39mframe_step\n\u001b[0;32m----> <a href='vscode-notebook-cell:/media/duy/vl1/hk1_nam4/thesis/mycc.ipynb#X20sZmlsZQ%3D%3D?line=2'>3</a>\u001b[0m pad_signal_length \u001b[39m=\u001b[39m num_frames \u001b[39m*\u001b[39m frame_step \u001b[39m+\u001b[39m frame_length\n\u001b[1;32m      <a href='vscode-notebook-cell:/media/duy/vl1/hk1_nam4/thesis/mycc.ipynb#X20sZmlsZQ%3D%3D?line=3'>4</a>\u001b[0m z \u001b[39m=\u001b[39m numpy\u001b[39m.\u001b[39mzeros((pad_signal_length \u001b[39m-\u001b[39m signal_length))\n\u001b[1;32m      <a href='vscode-notebook-cell:/media/duy/vl1/hk1_nam4/thesis/mycc.ipynb#X20sZmlsZQ%3D%3D?line=4'>5</a>\u001b[0m pad_signal \u001b[39m=\u001b[39m numpy\u001b[39m.\u001b[39mappend(emphasized_signal, z) \u001b[39m# Pad Signal to make sure that all frames have equal number of samples without truncating any samples from the original signal\u001b[39;00m\n",
      "\u001b[0;31mNameError\u001b[0m: name 'num_frames' is not defined"
     ]
    }
   ],
   "source": [
    "signal_length = len(emphasized_signal)\n",
    "num_frames = int(numpy.ceil((signal_length-frame_length)/frame_step))\n",
    "pad_signal_length = num_frames * frame_step + frame_length\n",
    "z = numpy.zeros((pad_signal_length - signal_length))\n",
    "pad_signal = numpy.append(emphasized_signal, z) # Pad Signal to make sure that all frames have equal number of samples without truncating any samples from the original signal\n",
    "\n",
    "indices = numpy.tile(numpy.arange(0, frame_length), (num_frames, 1)) + numpy.tile(numpy.arange(0, num_frames * frame_step, frame_step), (frame_length, 1)).T\n",
    "frames = pad_signal[indices.astype(numpy.int32, copy=False)]"
   ]
  }
 ],
 "metadata": {
  "kernelspec": {
   "display_name": "Python 3.9.12 ('base')",
   "language": "python",
   "name": "python3"
  },
  "language_info": {
   "codemirror_mode": {
    "name": "ipython",
    "version": 3
   },
   "file_extension": ".py",
   "mimetype": "text/x-python",
   "name": "python",
   "nbconvert_exporter": "python",
   "pygments_lexer": "ipython3",
   "version": "3.9.12"
  },
  "orig_nbformat": 4,
  "vscode": {
   "interpreter": {
    "hash": "b202599383e94201a2084d5eea95fed4bd5c9252ec116c823be3a048927dfec6"
   }
  }
 },
 "nbformat": 4,
 "nbformat_minor": 2
}
